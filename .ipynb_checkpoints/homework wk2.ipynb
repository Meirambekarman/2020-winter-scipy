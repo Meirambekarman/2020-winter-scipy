{
 "cells": [
  {
   "cell_type": "code",
   "execution_count": 54,
   "metadata": {},
   "outputs": [],
   "source": [
    "import numpy as np"
   ]
  },
  {
   "cell_type": "markdown",
   "metadata": {},
   "source": [
    "## 1 Create a null vector of size 10 but the fifth value which is 1"
   ]
  },
  {
   "cell_type": "code",
   "execution_count": 55,
   "metadata": {},
   "outputs": [
    {
     "data": {
      "text/plain": [
       "array([1, 1, 1, 1, 1, 5, 6, 7, 8, 9])"
      ]
     },
     "execution_count": 55,
     "metadata": {},
     "output_type": "execute_result"
    }
   ],
   "source": [
    "vector = np.arange(10)\n",
    "np.place(vector, vector<5, [1])\n",
    "vector"
   ]
  },
  {
   "cell_type": "markdown",
   "metadata": {},
   "source": [
    "## 2 Create a vector with values ranging from 10 to 49"
   ]
  },
  {
   "cell_type": "code",
   "execution_count": 56,
   "metadata": {},
   "outputs": [
    {
     "data": {
      "text/plain": [
       "array([10, 11, 12, 13, 14, 15, 16, 17, 18, 19, 20, 21, 22, 23, 24, 25, 26,\n",
       "       27, 28, 29, 30, 31, 32, 33, 34, 35, 36, 37, 38, 39, 40, 41, 42, 43,\n",
       "       44, 45, 46, 47, 48])"
      ]
     },
     "execution_count": 56,
     "metadata": {},
     "output_type": "execute_result"
    }
   ],
   "source": [
    "vector2 = np.arange(10, 49)\n",
    "vector2"
   ]
  },
  {
   "cell_type": "markdown",
   "metadata": {},
   "source": [
    "## 3 Reverse a vector (first element becomes last"
   ]
  },
  {
   "cell_type": "code",
   "execution_count": 57,
   "metadata": {},
   "outputs": [
    {
     "data": {
      "text/plain": [
       "array([ 0,  1,  2,  3,  4,  5,  6,  7,  8,  9, 10, 11, 12, 13, 14])"
      ]
     },
     "execution_count": 57,
     "metadata": {},
     "output_type": "execute_result"
    }
   ],
   "source": [
    "vector3 = np.arange(15)\n",
    "vector3"
   ]
  },
  {
   "cell_type": "markdown",
   "metadata": {},
   "source": [
    "## 4 create 3*3 matrix with values ranging from 0 to 8\n"
   ]
  },
  {
   "cell_type": "code",
   "execution_count": 58,
   "metadata": {},
   "outputs": [
    {
     "data": {
      "text/plain": [
       "array([[0, 1, 2],\n",
       "       [3, 4, 5],\n",
       "       [6, 7, 8]])"
      ]
     },
     "execution_count": 58,
     "metadata": {},
     "output_type": "execute_result"
    }
   ],
   "source": [
    "matrix = np.arange(0,9).reshape((3,3))\n",
    "matrix"
   ]
  },
  {
   "cell_type": "markdown",
   "metadata": {},
   "source": [
    "## 5 Finde indices of non zero elements from [1, 2, 0, 0, 4, 0]"
   ]
  },
  {
   "cell_type": "code",
   "execution_count": 59,
   "metadata": {},
   "outputs": [
    {
     "data": {
      "text/plain": [
       "array([[0],\n",
       "       [1],\n",
       "       [4]], dtype=int64)"
      ]
     },
     "execution_count": 59,
     "metadata": {},
     "output_type": "execute_result"
    }
   ],
   "source": [
    "a=np.array([1, 2, 0, 0, 4, 0])\n",
    "np.argwhere(a!=0)"
   ]
  },
  {
   "cell_type": "markdown",
   "metadata": {},
   "source": [
    "## 6 create 3*3 matrix  random values"
   ]
  },
  {
   "cell_type": "code",
   "execution_count": 60,
   "metadata": {},
   "outputs": [
    {
     "name": "stderr",
     "output_type": "stream",
     "text": [
      "C:\\Program Files (x86)\\Microsoft Visual Studio\\Shared\\Anaconda3_64\\lib\\site-packages\\ipykernel_launcher.py:1: DeprecationWarning: This function is deprecated. Please call randint(2, 10 + 1) instead\n",
      "  \"\"\"Entry point for launching an IPython kernel.\n"
     ]
    },
    {
     "data": {
      "text/plain": [
       "array([[ 6,  4,  8],\n",
       "       [10,  5,  5],\n",
       "       [ 9,  2,  5]])"
      ]
     },
     "execution_count": 60,
     "metadata": {},
     "output_type": "execute_result"
    }
   ],
   "source": [
    "np.random.random_integers(2,10,(3,3))"
   ]
  },
  {
   "cell_type": "markdown",
   "metadata": {},
   "source": [
    "# 2020-winter-scipy github repository\n",
    "ckenshim/2020-winter-scipy\n",
    "\n",
    "1) git checkout -b zhansultan/w2\n",
    "2) git status\n",
    "3) "
   ]
  },
  {
   "cell_type": "markdown",
   "metadata": {},
   "source": [
    "## 7 create a 10*10 array with  random values and find the max and min"
   ]
  },
  {
   "cell_type": "code",
   "execution_count": 61,
   "metadata": {},
   "outputs": [
    {
     "name": "stdout",
     "output_type": "stream",
     "text": [
      "[[ 75  15   2  92  48  35  84  55  95  13]\n",
      " [  4  90  20  91  29  46  31   5  97  37]\n",
      " [ 25  11  40  80  36  77  17   5  97  91]\n",
      " [  2  75  79  90 100  80  73  85  25  26]\n",
      " [ 25  56  67  81  66  91  77  77  24  23]\n",
      " [ 84  94  35  40  39  19  87  26  88  45]\n",
      " [ 40  13  44  47  35  84  25  95  37  75]\n",
      " [ 70  43  54  62  84  93  64  64  33  27]\n",
      " [ 79  71  11  11  72  24  13  91  50  72]\n",
      " [ 96  82  97  11  23  40  87  33  98  11]]\n",
      "max= 100\n",
      "min= 2\n",
      "max_a= 100\n",
      "min_a= 2\n"
     ]
    },
    {
     "name": "stderr",
     "output_type": "stream",
     "text": [
      "C:\\Program Files (x86)\\Microsoft Visual Studio\\Shared\\Anaconda3_64\\lib\\site-packages\\ipykernel_launcher.py:1: DeprecationWarning: This function is deprecated. Please call randint(2, 100 + 1) instead\n",
      "  \"\"\"Entry point for launching an IPython kernel.\n"
     ]
    }
   ],
   "source": [
    "a=np.random.random_integers(2,100,(10,10))\n",
    "print(a)\n",
    "#1-вариант\n",
    "maxa=np.amax(a)\n",
    "mina=np.amin(a)\n",
    "print(\"max=\",maxa)\n",
    "print(\"min=\",mina)\n",
    "#2-вариант\n",
    "max_a = a[0][0]\n",
    "min_a = a[0][0]\n",
    "for i in range(len(a)):\n",
    "    for j in range(len(a[i])):\n",
    "        if a[i][j]>max_a:\n",
    "            max_a=a[i][j]\n",
    "        if a[i][j]<min_a:\n",
    "            min_a=a[i][j]\n",
    "print(\"max_a=\",max_a)\n",
    "print(\"min_a=\",min_a)"
   ]
  },
  {
   "cell_type": "markdown",
   "metadata": {},
   "source": [
    "## 8 create a random vector of size 30 and find the mean value"
   ]
  },
  {
   "cell_type": "code",
   "execution_count": 62,
   "metadata": {},
   "outputs": [
    {
     "name": "stdout",
     "output_type": "stream",
     "text": [
      "[30 12 10 25 15 22 21  9 29 30  8 10 25  7 13  9 22 10 12 15 16  3  2  5\n",
      " 11  5 26 26 20 15]\n",
      "15.433333333333334\n",
      "15.433333333333334\n"
     ]
    },
    {
     "name": "stderr",
     "output_type": "stream",
     "text": [
      "C:\\Program Files (x86)\\Microsoft Visual Studio\\Shared\\Anaconda3_64\\lib\\site-packages\\ipykernel_launcher.py:1: DeprecationWarning: This function is deprecated. Please call randint(1, 30 + 1) instead\n",
      "  \"\"\"Entry point for launching an IPython kernel.\n"
     ]
    }
   ],
   "source": [
    "mean_vector=np.random.random_integers(1,30,30)\n",
    "print(mean_vector)\n",
    "#1-вариант\n",
    "mean1 = np.mean(mean_vector)\n",
    "print(mean1)\n",
    "#2-вариант\n",
    "summa_vector=0\n",
    "for i in range(len(mean_vector)):\n",
    "    summa_vector += mean_vector[i]\n",
    "print(summa_vector/len(mean_vector))"
   ]
  },
  {
   "cell_type": "markdown",
   "metadata": {},
   "source": [
    "## 9 How to add a border (filled with 0's) around an existing array?"
   ]
  },
  {
   "cell_type": "code",
   "execution_count": 63,
   "metadata": {},
   "outputs": [
    {
     "name": "stdout",
     "output_type": "stream",
     "text": [
      "[[ 2  4  9]\n",
      " [ 6  4  9]\n",
      " [10  5  2]]\n",
      "[[ 0  0  0  0  0]\n",
      " [ 0  2  4  9  0]\n",
      " [ 0  6  4  9  0]\n",
      " [ 0 10  5  2  0]\n",
      " [ 0  0  0  0  0]]\n"
     ]
    },
    {
     "name": "stderr",
     "output_type": "stream",
     "text": [
      "C:\\Program Files (x86)\\Microsoft Visual Studio\\Shared\\Anaconda3_64\\lib\\site-packages\\ipykernel_launcher.py:1: DeprecationWarning: This function is deprecated. Please call randint(2, 10 + 1) instead\n",
      "  \"\"\"Entry point for launching an IPython kernel.\n"
     ]
    }
   ],
   "source": [
    "border_array = np.random.random_integers(2,10,(3,3))\n",
    "print(border_array)\n",
    "border_array = np.pad(border_array, pad_width=1, mode='constant', constant_values=0)\n",
    "print(border_array)"
   ]
  },
  {
   "cell_type": "markdown",
   "metadata": {},
   "source": [
    "## 10 Create a 8x8 matrix and fill it with a checkerboard pattern"
   ]
  },
  {
   "cell_type": "code",
   "execution_count": 64,
   "metadata": {},
   "outputs": [
    {
     "name": "stdout",
     "output_type": "stream",
     "text": [
      "[[ 75  15   2  92  48  35  84  55  95  13]\n",
      " [  4  90  20  91  29  46  31   5  97  37]\n",
      " [ 25  11  40  80  36  77  17   5  97  91]\n",
      " [  2  75  79  90 100  80  73  85  25  26]\n",
      " [ 25  56  67  81  66  91  77  77  24  23]\n",
      " [ 84  94  35  40  39  19  87  26  88  45]\n",
      " [ 40  13  44  47  35  84  25  95  37  75]\n",
      " [ 70  43  54  62  84  93  64  64  33  27]\n",
      " [ 79  71  11  11  72  24  13  91  50  72]\n",
      " [ 96  82  97  11  23  40  87  33  98  11]]\n"
     ]
    }
   ],
   "source": [
    "acheck = np.ones((3,3))\n",
    "acheck = np.zeros((8,8),dtype=int)\n",
    "acheck[1::2,::2] = 1\n",
    "acheck[::2,1::2] = 1\n",
    "print(a)"
   ]
  },
  {
   "cell_type": "markdown",
   "metadata": {},
   "source": [
    "## 11 Normalize a 5x5 random matrix"
   ]
  },
  {
   "cell_type": "code",
   "execution_count": 65,
   "metadata": {},
   "outputs": [
    {
     "name": "stdout",
     "output_type": "stream",
     "text": [
      "Original Array:\n",
      "[[13  3  2 16 13]\n",
      " [12  2 10  2 10]\n",
      " [ 9 14 17  7 16]\n",
      " [ 9 15  8  9 20]\n",
      " [ 4  5 15 14 10]]\n",
      "[[0.61111111 0.05555556 0.         0.77777778 0.61111111]\n",
      " [0.55555556 0.         0.44444444 0.         0.44444444]\n",
      " [0.38888889 0.66666667 0.83333333 0.27777778 0.77777778]\n",
      " [0.38888889 0.72222222 0.33333333 0.38888889 1.        ]\n",
      " [0.11111111 0.16666667 0.72222222 0.66666667 0.44444444]]\n"
     ]
    },
    {
     "name": "stderr",
     "output_type": "stream",
     "text": [
      "C:\\Program Files (x86)\\Microsoft Visual Studio\\Shared\\Anaconda3_64\\lib\\site-packages\\ipykernel_launcher.py:1: DeprecationWarning: This function is deprecated. Please call randint(2, 20 + 1) instead\n",
      "  \"\"\"Entry point for launching an IPython kernel.\n"
     ]
    }
   ],
   "source": [
    "anorma = np.random.random_integers(2,20,(5,5))\n",
    "print(\"Original Array:\")\n",
    "print(anorma)\n",
    "maxa=np.amax(anorma)\n",
    "mina=np.amin(anorma)\n",
    "anorma = (anorma - mina)/(maxa - mina)\n",
    "print(anorma)"
   ]
  },
  {
   "cell_type": "markdown",
   "metadata": {},
   "source": [
    "## 12 Given a 10 array, negative all elements which are between 3and 8, in place"
   ]
  },
  {
   "cell_type": "code",
   "execution_count": 66,
   "metadata": {},
   "outputs": [
    {
     "name": "stdout",
     "output_type": "stream",
     "text": [
      "[0 1 2 3 4 5 6 7 8 9]\n",
      "[ 0  1  2  3 -4 -5 -6 -7  8  9]\n"
     ]
    }
   ],
   "source": [
    "negative = np.arange(10)\n",
    "print(negative)\n",
    "#m = (negative > 3) & (negative < 8)\n",
    "#negative[m] *= -1\n",
    "#print(negative)\n",
    "for i in range(len(negative)):\n",
    "    if (negative[i]>3 and negative[i] < 8):\n",
    "        negative[i] *= -1\n",
    "print(negative)"
   ]
  },
  {
   "cell_type": "markdown",
   "metadata": {},
   "source": [
    "## 13 How to find common values between two arrays?"
   ]
  },
  {
   "cell_type": "code",
   "execution_count": 67,
   "metadata": {},
   "outputs": [
    {
     "name": "stdout",
     "output_type": "stream",
     "text": [
      "[49 75 26 74 89 23 90 40 41 36]\n",
      "[98 61 72 40 30 64 89 21]\n",
      "[40 89]\n"
     ]
    },
    {
     "name": "stderr",
     "output_type": "stream",
     "text": [
      "C:\\Program Files (x86)\\Microsoft Visual Studio\\Shared\\Anaconda3_64\\lib\\site-packages\\ipykernel_launcher.py:1: DeprecationWarning: This function is deprecated. Please call randint(10, 100 + 1) instead\n",
      "  \"\"\"Entry point for launching an IPython kernel.\n",
      "C:\\Program Files (x86)\\Microsoft Visual Studio\\Shared\\Anaconda3_64\\lib\\site-packages\\ipykernel_launcher.py:3: DeprecationWarning: This function is deprecated. Please call randint(10, 100 + 1) instead\n",
      "  This is separate from the ipykernel package so we can avoid doing imports until\n"
     ]
    }
   ],
   "source": [
    "a1 = np.random.random_integers(10,100,10)\n",
    "print(a1)\n",
    "a2 = np.random.random_integers(10,100,8)\n",
    "print(a2)\n",
    "print(np.intersect1d(a1, a2))"
   ]
  },
  {
   "cell_type": "markdown",
   "metadata": {},
   "source": [
    "## 14 Create a 5x5 matrix with row values ranging from 0 to 4"
   ]
  },
  {
   "cell_type": "code",
   "execution_count": 68,
   "metadata": {},
   "outputs": [
    {
     "name": "stdout",
     "output_type": "stream",
     "text": [
      "[[0. 1. 2. 3. 4.]\n",
      " [0. 1. 2. 3. 4.]\n",
      " [0. 1. 2. 3. 4.]\n",
      " [0. 1. 2. 3. 4.]\n",
      " [0. 1. 2. 3. 4.]]\n"
     ]
    }
   ],
   "source": [
    "row_array = np.zeros((5,5))\n",
    "#row_array += np.arange(5)\n",
    "\n",
    "for i in range(len(row_array)):\n",
    "    s=0\n",
    "    for j in range(len(row_array)):\n",
    "        row_array[i][j]=s\n",
    "        s=s+1\n",
    "print(row_array)"
   ]
  },
  {
   "cell_type": "markdown",
   "metadata": {},
   "source": [
    "## 15 Create a vector of size 10 with values ranging from 0 to 1, both excluded"
   ]
  },
  {
   "cell_type": "code",
   "execution_count": 69,
   "metadata": {},
   "outputs": [
    {
     "name": "stdout",
     "output_type": "stream",
     "text": [
      "[0.09090909 0.18181818 0.27272727 0.36363636 0.45454545 0.54545455\n",
      " 0.63636364 0.72727273 0.81818182 0.90909091]\n"
     ]
    }
   ],
   "source": [
    "ex = np.linspace(0,1,12,endpoint=True)[1:-1]\n",
    "print(ex)"
   ]
  },
  {
   "cell_type": "code",
   "execution_count": null,
   "metadata": {},
   "outputs": [],
   "source": []
  }
 ],
 "metadata": {
  "kernelspec": {
   "display_name": "Python 3",
   "language": "python",
   "name": "python3"
  },
  "language_info": {
   "codemirror_mode": {
    "name": "ipython",
    "version": 3
   },
   "file_extension": ".py",
   "mimetype": "text/x-python",
   "name": "python",
   "nbconvert_exporter": "python",
   "pygments_lexer": "ipython3",
   "version": "3.7.4"
  }
 },
 "nbformat": 4,
 "nbformat_minor": 2
}
