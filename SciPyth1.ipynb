{
 "cells": [
  {
   "cell_type": "code",
   "execution_count": 2,
   "metadata": {},
   "outputs": [
    {
     "name": "stdout",
     "output_type": "stream",
     "text": [
      "Vector=\n",
      " [0. 0. 0. 0. 0. 0. 0. 0. 0. 0.]\n",
      "new Vector with 1=\n",
      " [0. 0. 0. 0. 0. 1. 0. 0. 0. 0.]\n"
     ]
    }
   ],
   "source": [
    "import numpy as np\n",
    "#1\n",
    "Avect=np.zeros(10)\n",
    "print('Vector=\\n',Avect)\n",
    "Avect[5]=1\n",
    "print('new Vector with 1=\\n', Avect)"
   ]
  },
  {
   "cell_type": "code",
   "execution_count": 6,
   "metadata": {},
   "outputs": [
    {
     "name": "stdout",
     "output_type": "stream",
     "text": [
      "[10 11 12 13 14 15 16 17 18 19 20 21 22 23 24 25 26 27 28 29 30 31 32 33\n",
      " 34 35 36 37 38 39 40 41 42 43 44 45 46 47 48 49]\n"
     ]
    }
   ],
   "source": [
    "#2\n",
    "Dvect=np.arange(10,50)\n",
    "print(Dvect)"
   ]
  },
  {
   "cell_type": "code",
   "execution_count": 4,
   "metadata": {},
   "outputs": [
    {
     "name": "stdout",
     "output_type": "stream",
     "text": [
      "Vector [0 1 2 3 4 5 6 7 8 9]\n",
      "Reverse vector [9 8 7 6 5 4 3 2 1 0]\n"
     ]
    }
   ],
   "source": [
    "#3\n",
    "Vect=np.arange(10)\n",
    "print('Vector',Vect)\n",
    "Vect=Vect[::-1]\n",
    "print('Reverse vector', Vect)"
   ]
  },
  {
   "cell_type": "code",
   "execution_count": 5,
   "metadata": {},
   "outputs": [
    {
     "name": "stdout",
     "output_type": "stream",
     "text": [
      "[[0 1 2]\n",
      " [3 4 5]\n",
      " [6 7 8]]\n"
     ]
    }
   ],
   "source": [
    "#4\n",
    "mtrx=np.arange(9).reshape(3,3)\n",
    "print(mtrx)"
   ]
  },
  {
   "cell_type": "code",
   "execution_count": 7,
   "metadata": {},
   "outputs": [
    {
     "name": "stdout",
     "output_type": "stream",
     "text": [
      "(array([0, 1, 4], dtype=int64),)\n"
     ]
    }
   ],
   "source": [
    "#5\n",
    "d=np.nonzero([1,2,0,0,4,0])\n",
    "print(d)"
   ]
  },
  {
   "cell_type": "code",
   "execution_count": 8,
   "metadata": {},
   "outputs": [
    {
     "name": "stdout",
     "output_type": "stream",
     "text": [
      "[[[0.64237731 0.91946907 0.72933587]\n",
      "  [0.82833924 0.5305712  0.84819186]\n",
      "  [0.69464149 0.78180781 0.76374583]]\n",
      "\n",
      " [[0.2222123  0.65642424 0.34128514]\n",
      "  [0.38490958 0.71463811 0.99492724]\n",
      "  [0.46383291 0.00943899 0.6966343 ]]\n",
      "\n",
      " [[0.502376   0.2639376  0.23063532]\n",
      "  [0.68348805 0.93895057 0.14868436]\n",
      "  [0.45737759 0.58381448 0.61326506]]]\n"
     ]
    }
   ],
   "source": [
    "#6\n",
    "arr=np.random.random((3,3,3,))\n",
    "print(arr)"
   ]
  },
  {
   "cell_type": "code",
   "execution_count": 10,
   "metadata": {},
   "outputs": [
    {
     "name": "stdout",
     "output_type": "stream",
     "text": [
      "10x10\n",
      " [[0.52728688 0.50823565 0.39351387 0.15119785 0.86702439 0.19097559\n",
      "  0.19216846 0.62503896 0.94701808 0.06863289]\n",
      " [0.01245326 0.47499792 0.87430887 0.83400681 0.6919444  0.27315585\n",
      "  0.88327168 0.47961158 0.42631291 0.49819628]\n",
      " [0.20179409 0.61459618 0.62345037 0.72622286 0.78975759 0.03603488\n",
      "  0.10561807 0.66802219 0.74711435 0.22048162]\n",
      " [0.68884947 0.84014068 0.64069946 0.40144618 0.2957291  0.68374938\n",
      "  0.2892395  0.86923178 0.7916267  0.24823489]\n",
      " [0.01268474 0.2209452  0.7897663  0.88256986 0.04052187 0.35253016\n",
      "  0.45520532 0.92867767 0.54372376 0.09071061]\n",
      " [0.17001833 0.95799206 0.54512399 0.26700336 0.77751867 0.08676503\n",
      "  0.43825352 0.51110956 0.76415044 0.28203308]\n",
      " [0.0031385  0.42758512 0.36255473 0.51988184 0.2384211  0.26242628\n",
      "  0.09797754 0.36368943 0.92051597 0.05713082]\n",
      " [0.61994934 0.00173065 0.94252375 0.16582344 0.64982088 0.86825009\n",
      "  0.96893894 0.46426435 0.89792331 0.15193166]\n",
      " [0.1799957  0.88977683 0.56559731 0.42883887 0.21993379 0.49781519\n",
      "  0.23812116 0.56829077 0.91592532 0.02498202]\n",
      " [0.81194572 0.93289234 0.95029599 0.84856667 0.45675949 0.16877448\n",
      "  0.12258919 0.98299404 0.07608491 0.54128402]]\n",
      "min\n",
      " 0.001730645950399512\n",
      "max\n",
      " 0.9829940433052038\n"
     ]
    }
   ],
   "source": [
    "#7\n",
    "darray=np.random.random((10,10))\n",
    "print('10x10\\n',darray)\n",
    "darrayMin=darray.min()\n",
    "print('min\\n',darrayMin)\n",
    "darrayMax=darray.max()\n",
    "print('max\\n',darrayMax)"
   ]
  },
  {
   "cell_type": "code",
   "execution_count": 11,
   "metadata": {},
   "outputs": [
    {
     "name": "stdout",
     "output_type": "stream",
     "text": [
      "[0.73011582 0.36552436 0.17965132 0.54732693 0.65986572 0.49452945\n",
      " 0.77195506 0.56170748 0.04167173 0.13951501 0.98440486 0.78187021\n",
      " 0.21246722 0.78721495 0.71504125 0.03221508 0.29824935 0.3123867\n",
      " 0.84711076 0.57990792 0.81004865 0.08086269 0.63165151 0.08603779\n",
      " 0.59850307 0.25555008 0.27008611 0.397917   0.23366821 0.2477053 ]\n",
      "mean\n",
      " 0.455158718528095\n"
     ]
    }
   ],
   "source": [
    "#8\n",
    "dv=np.random.random(30)\n",
    "print(dv)\n",
    "mv=dv.mean()\n",
    "print('mean\\n',mv)"
   ]
  },
  {
   "cell_type": "code",
   "execution_count": 12,
   "metadata": {},
   "outputs": [
    {
     "name": "stdout",
     "output_type": "stream",
     "text": [
      "[[0 0 0 0 0]\n",
      " [0 0 1 2 0]\n",
      " [0 3 4 5 0]\n",
      " [0 6 7 8 0]\n",
      " [0 0 0 0 0]]\n"
     ]
    }
   ],
   "source": [
    "#9\n",
    "N=np.arange(9).reshape(3,3)\n",
    "N=np.pad(N,pad_width=1, mode='constant', constant_values=0)\n",
    "print(N)"
   ]
  },
  {
   "cell_type": "code",
   "execution_count": 13,
   "metadata": {},
   "outputs": [
    {
     "name": "stdout",
     "output_type": "stream",
     "text": [
      "[[0 3 0 3 0 3 0 3]\n",
      " [2 0 2 0 2 0 2 0]\n",
      " [0 3 0 3 0 3 0 3]\n",
      " [2 0 2 0 2 0 2 0]\n",
      " [0 3 0 3 0 3 0 3]\n",
      " [2 0 2 0 2 0 2 0]\n",
      " [0 3 0 3 0 3 0 3]\n",
      " [2 0 2 0 2 0 2 0]]\n"
     ]
    }
   ],
   "source": [
    "#10\n",
    "d = np.zeros((8,8),dtype=int)\n",
    "d[1::2,::2] = 2\n",
    "d[::2,1::2] = 3\n",
    "print(d)"
   ]
  },
  {
   "cell_type": "code",
   "execution_count": 14,
   "metadata": {},
   "outputs": [
    {
     "name": "stdout",
     "output_type": "stream",
     "text": [
      "matrix\n",
      " [[0.53281609 0.75229904 0.63547884 0.88535812 0.81458779]\n",
      " [0.16234325 0.75881683 0.87732197 0.96157184 0.49734963]\n",
      " [0.95329825 0.41828994 0.56484391 0.11056148 0.77733639]\n",
      " [0.09841639 0.17376522 0.13894212 0.49034469 0.00498612]\n",
      " [0.00205586 0.10278181 0.11735946 0.36639494 0.09865372]]\n",
      "normal matrix\n",
      " [[ 0.24974888  0.92667594  0.56638029  1.33705541  1.11878629]\n",
      " [-0.89285968  0.94677806  1.3122704   1.57211301  0.14036357]\n",
      " [ 1.54659567 -0.10347152  0.34852875 -1.05256449  1.00389591]\n",
      " [-1.09002225 -0.85763215 -0.96503321  0.11875902 -1.37817895]\n",
      " [-1.38721642 -1.07655847 -1.03159823 -0.26352553 -1.08929029]]\n"
     ]
    }
   ],
   "source": [
    "#11\n",
    "N = np.random.random((5,5))\n",
    "print('matrix\\n',N)\n",
    "N = (N - np.mean (N)) / (np.std (N))\n",
    "print('normal matrix\\n',N)"
   ]
  },
  {
   "cell_type": "code",
   "execution_count": 15,
   "metadata": {},
   "outputs": [
    {
     "name": "stdout",
     "output_type": "stream",
     "text": [
      "[ 0  1  2  3  4  5  6  7  8  9 10]\n",
      "[ 0  1  2  3 -4 -5 -6 -7 -8  9 10]\n"
     ]
    }
   ],
   "source": [
    "#12\n",
    "N = np.arange(11)\n",
    "print(N)\n",
    "N[(3 < N) & (N <= 8)] *= -1\n",
    "print(N)"
   ]
  },
  {
   "cell_type": "code",
   "execution_count": 16,
   "metadata": {},
   "outputs": [
    {
     "name": "stdout",
     "output_type": "stream",
     "text": [
      "[3 1 3 8 5 0 3 3 2 8]\n",
      "[3 3 4 3 1 3 4 9 9 0]\n",
      "[0 1 3]\n"
     ]
    }
   ],
   "source": [
    "#13\n",
    "N1 = np.random.randint(0,10,10)\n",
    "print(N1)\n",
    "N2 = np.random.randint(0,10,10)\n",
    "print(N2)\n",
    "print(np.intersect1d(N1,N2))"
   ]
  },
  {
   "cell_type": "code",
   "execution_count": 17,
   "metadata": {},
   "outputs": [
    {
     "name": "stdout",
     "output_type": "stream",
     "text": [
      "[[0. 0. 0. 0. 0.]\n",
      " [0. 0. 0. 0. 0.]\n",
      " [0. 0. 0. 0. 0.]\n",
      " [0. 0. 0. 0. 0.]\n",
      " [0. 0. 0. 0. 0.]]\n",
      "[[0. 1. 2. 3. 4.]\n",
      " [0. 1. 2. 3. 4.]\n",
      " [0. 1. 2. 3. 4.]\n",
      " [0. 1. 2. 3. 4.]\n",
      " [0. 1. 2. 3. 4.]]\n"
     ]
    }
   ],
   "source": [
    "#14\n",
    "d = np.zeros((5,5))\n",
    "print(d)\n",
    "d += np.arange(5)\n",
    "print(d)"
   ]
  },
  {
   "cell_type": "code",
   "execution_count": 18,
   "metadata": {},
   "outputs": [
    {
     "name": "stdout",
     "output_type": "stream",
     "text": [
      "[0.09090909 0.18181818 0.27272727 0.36363636 0.45454545 0.54545455\n",
      " 0.63636364 0.72727273 0.81818182 0.90909091]\n"
     ]
    }
   ],
   "source": [
    "#15\n",
    "d = np.linspace(0,1,12,endpoint=True)[1:-1]\n",
    "print(d)"
   ]
  },
  {
   "cell_type": "code",
   "execution_count": null,
   "metadata": {},
   "outputs": [],
   "source": []
  }
 ],
 "metadata": {
  "kernelspec": {
   "display_name": "Python 3",
   "language": "python",
   "name": "python3"
  },
  "language_info": {
   "codemirror_mode": {
    "name": "ipython",
    "version": 3
   },
   "file_extension": ".py",
   "mimetype": "text/x-python",
   "name": "python",
   "nbconvert_exporter": "python",
   "pygments_lexer": "ipython3",
   "version": "3.7.4"
  }
 },
 "nbformat": 4,
 "nbformat_minor": 2
}
