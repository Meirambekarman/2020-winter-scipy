{
 "cells": [
  {
   "cell_type": "code",
   "execution_count": 1,
   "metadata": {},
   "outputs": [],
   "source": [
    "# Coursework in Python \n",
    "from CourseworkLibrary import *\n",
    "import numpy as np"
   ]
  },
  {
   "cell_type": "code",
   "execution_count": 55,
   "metadata": {},
   "outputs": [],
   "source": [
    "#\n",
    "# Coursework 1 begins here\n",
    "#\n",
    "# Function to compute the prior distribution of the variable root from the data set\n",
    "def Prior(theData, root, noStates):\n",
    "    prior = np.zeros((noStates[root]), float)\n",
    "    # Coursework 1 task 1 should be inserted here\n",
    "    n=len(theData[:,0])\n",
    "    for i in range(n):\n",
    "        prior[theData[i,root]]+=1\n",
    "    prior/=n\n",
    "    # end of Coursework 1 task 1\n",
    "    return prior\n",
    "\n",
    "\n",
    "# Function to compute a CPT with parent node varP and xchild node varC from the data array\n",
    "# it is assumed that the states are designated by consecutive integers starting with 0\n",
    "def CPT(theData, varC, varP, noStates):\n",
    "    cPT = np.zeros((noStates[varC], noStates[varP]), float)\n",
    "    # Coursework 1 task 2 should be inserte4d here\n",
    "    n=len(theData[:,0])\n",
    "    for i in range(n):\n",
    "        cPT[theData[i,varC]][theData[i,varP]]+=1\n",
    "    for j in range(noStates[varP]):\n",
    "        a=(np.sum(theData[:,varP]==j))\n",
    "        if a!=0:\n",
    "            cPT[:,j]/=(np.sum(theData[:,varP]==j))\n",
    "    # end of coursework 1 task 2\n",
    "    return cPT\n",
    "\n",
    "\n",
    "# Function to calculate the joint probability table of two variables in the data set\n",
    "def JPT(theData, varRow, varCol, noStates):\n",
    "    jPT = np.zeros((noStates[varRow], noStates[varCol]), float)\n",
    "    # Coursework 1 task 3 should be inserted here\n",
    "    n=len(theData[:,0])\n",
    "    for i in range(n):\n",
    "        jPT[theData[i,varRow]][theData[i,varCol]]+=1\n",
    "    jPT/=n\n",
    "    # end of coursework 1 task 3\n",
    "    return jPT\n",
    "\n",
    "\n",
    "# Function to convert a joint probability table to a conditional probability table\n",
    "def JPT2CPT(aJPT):\n",
    "    # Coursework 1 task 4 should be inserted here\n",
    "    for i in range(len(aJPT[0,:])):\n",
    "        a=(np.sum(aJPT[:,i]))\n",
    "        if a!=0:\n",
    "            aJPT[:,i]*=1/a\n",
    "    # coursework 1 task 4 ends here\n",
    "    return aJPT\n",
    "\n",
    "\n",
    "# Function to query a naive Bayesian network\n",
    "def Query(theQuery, naiveBayes):\n",
    "    rootPdf = np.zeros((naiveBayes[0].shape[0]), float)\n",
    "    # Coursework 1 task 5 should be inserted here\n",
    "    for i in range(len(rootPdf)):\n",
    "        rootPdf[i]=naiveBayes[0][i]\n",
    "      \n",
    "        for j in range(0,len(theQuery)):\n",
    "            rootPdf[i]*=naiveBayes[j][i]\n",
    "            \n",
    "    if (np.sum(rootPdf)!=0):\n",
    "        rootPdf*=1/(np.sum(rootPdf)) #shouldnt be 0\n",
    "    else:\n",
    "        rootPdf=np.ones((naiveBayes[0].shape[0]), float)/naiveBayes[0].shape[0]\n",
    "    # end of coursework 1 task 5\n",
    "    return rootPdf\n",
    "\n",
    "\n",
    "#\n",
    "# End of Coursework 1\n",
    "#\n",
    "\n",
    "\n",
    "if __name__ == '__main__':\n",
    "    noVariables, noRoots, noStates, noDataPoints, datain = ReadFile(\"data.txt\")\n",
    "    theData = np.array(datain)\n",
    "#   prior start\n",
    "    AppendString(\"results.txt\", \"Coursework One Results by {0}\".format(\"Zhansultan\"))\n",
    "    AppendString(\"results.txt\", \"\")  # blank line\n",
    "    AppendString(\"results.txt\", \"The prior probability of node 0\")\n",
    "    prior = Prior(theData, 0, noStates)\n",
    "    AppendList(\"results.txt\", prior)\n",
    "#   prior end\n",
    "\n",
    "#   The CPT probability start\n",
    "    AppendString(\"results.txt\", \"\")  # blank line\n",
    "    AppendString(\"results.txt\", \"The CPT probability\")\n",
    "    cPT = CPT(theData, 2, 0, noStates)\n",
    "    AppendArray(\"results.txt\", cPT)\n",
    "#   The CPT probability end\n",
    "    \n",
    "#   The JPT probability start\n",
    "    AppendString(\"results.txt\", \"\")  # blank line\n",
    "    AppendString(\"results.txt\", \"The JPT probability\")\n",
    "    jPT = JPT(theData, 2, 0, noStates)\n",
    "    AppendArray(\"results.txt\", jPT)\n",
    "#   The JPT probability end\n",
    "    \n",
    "#   The JPT2CPT probability start\n",
    "    AppendString(\"results.txt\", \"\")  # blank line\n",
    "    AppendString(\"results.txt\", \"The JPT2CPT probability\")\n",
    "    aJPT = JPT2CPT(jPT)\n",
    "    AppendArray(\"results.txt\", aJPT)\n",
    "#   The JPT2CPT probability end\n",
    "\n",
    "#   Query a naive Bayesian network start\n",
    "    AppendString(\"results.txt\", \"\")  # blank line\n",
    "    AppendString(\"results.txt\", \"Query a naive Bayesian network\")\n",
    "    theQuery = noStates\n",
    "    rootPdf = Query(theQuery, theData)\n",
    "    AppendList(\"results.txt\", rootPdf)\n",
    "#   Query a naive Bayesian network end\n",
    "\n",
    "    # Continue filling the results.txt file here ..."
   ]
  },
  {
   "cell_type": "code",
   "execution_count": 56,
   "metadata": {},
   "outputs": [
    {
     "data": {
      "text/plain": [
       "array([0.15909091, 0.29545455, 0.20454545, 0.34090909])"
      ]
     },
     "execution_count": 56,
     "metadata": {},
     "output_type": "execute_result"
    }
   ],
   "source": [
    "prior"
   ]
  },
  {
   "cell_type": "code",
   "execution_count": 57,
   "metadata": {},
   "outputs": [
    {
     "data": {
      "text/plain": [
       "[4, 8, 8, 6, 6, 6]"
      ]
     },
     "execution_count": 57,
     "metadata": {},
     "output_type": "execute_result"
    }
   ],
   "source": [
    "noStates"
   ]
  },
  {
   "cell_type": "code",
   "execution_count": 58,
   "metadata": {},
   "outputs": [
    {
     "data": {
      "text/plain": [
       "array([0, 2, 1, 0, 1, 0, 0, 3, 0, 1, 0, 0, 3, 3, 3, 1, 4, 1, 5, 4, 4, 4,\n",
       "       4, 4, 4, 4, 3, 4, 3, 7, 5, 5, 6, 7, 6, 6, 5, 6, 7, 5, 5, 6, 7, 7])"
      ]
     },
     "execution_count": 58,
     "metadata": {},
     "output_type": "execute_result"
    }
   ],
   "source": [
    "theData[:,2]"
   ]
  },
  {
   "cell_type": "code",
   "execution_count": 59,
   "metadata": {},
   "outputs": [
    {
     "data": {
      "text/plain": [
       "6"
      ]
     },
     "execution_count": 59,
     "metadata": {},
     "output_type": "execute_result"
    }
   ],
   "source": [
    "len(noStates)"
   ]
  },
  {
   "cell_type": "code",
   "execution_count": 60,
   "metadata": {},
   "outputs": [
    {
     "data": {
      "text/plain": [
       "1"
      ]
     },
     "execution_count": 60,
     "metadata": {},
     "output_type": "execute_result"
    }
   ],
   "source": [
    "noRoots"
   ]
  },
  {
   "cell_type": "code",
   "execution_count": 61,
   "metadata": {},
   "outputs": [
    {
     "data": {
      "text/plain": [
       "4"
      ]
     },
     "execution_count": 61,
     "metadata": {},
     "output_type": "execute_result"
    }
   ],
   "source": [
    "noStates[0]"
   ]
  },
  {
   "cell_type": "code",
   "execution_count": 66,
   "metadata": {},
   "outputs": [
    {
     "data": {
      "text/plain": [
       "6"
      ]
     },
     "execution_count": 66,
     "metadata": {},
     "output_type": "execute_result"
    }
   ],
   "source": [
    "theData[0].shape[0]"
   ]
  },
  {
   "cell_type": "code",
   "execution_count": null,
   "metadata": {},
   "outputs": [],
   "source": []
  }
 ],
 "metadata": {
  "kernelspec": {
   "display_name": "Python 3",
   "language": "python",
   "name": "python3"
  },
  "language_info": {
   "codemirror_mode": {
    "name": "ipython",
    "version": 3
   },
   "file_extension": ".py",
   "mimetype": "text/x-python",
   "name": "python",
   "nbconvert_exporter": "python",
   "pygments_lexer": "ipython3",
   "version": "3.6.5"
  }
 },
 "nbformat": 4,
 "nbformat_minor": 2
}
