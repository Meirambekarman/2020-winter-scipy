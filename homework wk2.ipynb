{
 "cells": [
  {
   "cell_type": "code",
   "execution_count": 1,
   "metadata": {},
   "outputs": [],
   "source": [
    "import numpy as np"
   ]
  },
  {
   "cell_type": "markdown",
   "metadata": {},
   "source": [
    "## 1 Create a null vector of size 10 but the fifth value which is 1"
   ]
  },
  {
   "cell_type": "code",
   "execution_count": 2,
   "metadata": {},
   "outputs": [
    {
     "data": {
      "text/plain": [
       "array([1, 1, 1, 1, 1, 5, 6, 7, 8, 9])"
      ]
     },
     "execution_count": 2,
     "metadata": {},
     "output_type": "execute_result"
    }
   ],
   "source": [
    "vector = np.arange(10)\n",
    "np.place(vector, vector<5, [1])\n",
    "vector"
   ]
  },
  {
   "cell_type": "markdown",
   "metadata": {},
   "source": [
    "## 2 Create a vector with values ranging from 10 to 49"
   ]
  },
  {
   "cell_type": "code",
   "execution_count": 3,
   "metadata": {},
   "outputs": [
    {
     "data": {
      "text/plain": [
       "array([10, 11, 12, 13, 14, 15, 16, 17, 18, 19, 20, 21, 22, 23, 24, 25, 26,\n",
       "       27, 28, 29, 30, 31, 32, 33, 34, 35, 36, 37, 38, 39, 40, 41, 42, 43,\n",
       "       44, 45, 46, 47, 48])"
      ]
     },
     "execution_count": 3,
     "metadata": {},
     "output_type": "execute_result"
    }
   ],
   "source": [
    "vector2 = np.arange(10, 49)\n",
    "vector2"
   ]
  },
  {
   "cell_type": "markdown",
   "metadata": {},
   "source": [
    "## 3 Reverse a vector (first element becomes last"
   ]
  },
  {
   "cell_type": "code",
   "execution_count": 4,
   "metadata": {},
   "outputs": [
    {
     "data": {
      "text/plain": [
       "array([ 0,  1,  2,  3,  4,  5,  6,  7,  8,  9, 10, 11, 12, 13, 14])"
      ]
     },
     "execution_count": 4,
     "metadata": {},
     "output_type": "execute_result"
    }
   ],
   "source": [
    "vector3 = np.arange(15)\n",
    "vector3"
   ]
  },
  {
   "cell_type": "markdown",
   "metadata": {},
   "source": [
    "## 4 create 3*3 matrix with values ranging from 0 to 8\n"
   ]
  },
  {
   "cell_type": "code",
   "execution_count": 5,
   "metadata": {},
   "outputs": [
    {
     "data": {
      "text/plain": [
       "array([[0, 1, 2],\n",
       "       [3, 4, 5],\n",
       "       [6, 7, 8]])"
      ]
     },
     "execution_count": 5,
     "metadata": {},
     "output_type": "execute_result"
    }
   ],
   "source": [
    "matrix = np.arange(0,9).reshape((3,3))\n",
    "matrix"
   ]
  },
  {
   "cell_type": "markdown",
   "metadata": {},
   "source": [
    "## 5 Finde indices of non zero elements from [1, 2, 0, 0, 4, 0]"
   ]
  },
  {
   "cell_type": "code",
   "execution_count": 6,
   "metadata": {},
   "outputs": [
    {
     "data": {
      "text/plain": [
       "array([[0],\n",
       "       [1],\n",
       "       [4]], dtype=int64)"
      ]
     },
     "execution_count": 6,
     "metadata": {},
     "output_type": "execute_result"
    }
   ],
   "source": [
    "a=np.array([1, 2, 0, 0, 4, 0])\n",
    "np.argwhere(a!=0)"
   ]
  },
  {
   "cell_type": "markdown",
   "metadata": {},
   "source": [
    "## 6 create 3*3 matrix  random values"
   ]
  },
  {
   "cell_type": "code",
   "execution_count": 7,
   "metadata": {},
   "outputs": [
    {
     "name": "stderr",
     "output_type": "stream",
     "text": [
      "C:\\ProgramData\\Anaconda3\\lib\\site-packages\\ipykernel_launcher.py:1: DeprecationWarning: This function is deprecated. Please call randint(2, 10 + 1) instead\n",
      "  \"\"\"Entry point for launching an IPython kernel.\n"
     ]
    },
    {
     "data": {
      "text/plain": [
       "array([[ 8, 10,  3],\n",
       "       [10,  8,  3],\n",
       "       [ 6,  7,  5]])"
      ]
     },
     "execution_count": 7,
     "metadata": {},
     "output_type": "execute_result"
    }
   ],
   "source": [
    "np.random.random_integers(2,10,(3,3))"
   ]
  },
  {
   "cell_type": "markdown",
   "metadata": {},
   "source": [
    "# 2020-winter-scipy github repository\n",
    "ckenshim/2020-winter-scipy\n",
    "\n",
    "1) git checkout -b zhansultan/w2\n",
    "2) git status\n",
    "3) "
   ]
  },
  {
   "cell_type": "markdown",
   "metadata": {},
   "source": [
    "## 7 create a 10*10 array with  random values and find the max and min"
   ]
  },
  {
   "cell_type": "code",
   "execution_count": 8,
   "metadata": {},
   "outputs": [
    {
     "name": "stdout",
     "output_type": "stream",
     "text": [
      "[[ 75  88  22  82  46  69  16  92  96  56]\n",
      " [ 18  96  70  84  28  79  98  71  70   3]\n",
      " [ 68  50   2  69  13  69  85  35  59   5]\n",
      " [ 30  67  45  87  39 100  79  46  24  75]\n",
      " [ 35  25  25  56  42  18  59  26  61  33]\n",
      " [ 98  17  11  42   8  97  11   8  53  82]\n",
      " [ 98  46  91  41  98  81  53  84  80  20]\n",
      " [ 25  12  77  89  37  72  96  86  82  82]\n",
      " [ 51  41  19   3  17  92  65  62  83  49]\n",
      " [ 96  27 100  61  10  54   4  71  30  62]]\n",
      "max= 100\n",
      "min= 2\n",
      "max_a= 100\n",
      "min_a= 2\n"
     ]
    },
    {
     "name": "stderr",
     "output_type": "stream",
     "text": [
      "C:\\ProgramData\\Anaconda3\\lib\\site-packages\\ipykernel_launcher.py:1: DeprecationWarning: This function is deprecated. Please call randint(2, 100 + 1) instead\n",
      "  \"\"\"Entry point for launching an IPython kernel.\n"
     ]
    }
   ],
   "source": [
    "a=np.random.random_integers(2,100,(10,10))\n",
    "print(a)\n",
    "#1-вариант\n",
    "maxa=np.amax(a)\n",
    "mina=np.amin(a)\n",
    "print(\"max=\",maxa)\n",
    "print(\"min=\",mina)\n",
    "#2-вариант\n",
    "max_a = a[0][0]\n",
    "min_a = a[0][0]\n",
    "for i in range(len(a)):\n",
    "    for j in range(len(a[i])):\n",
    "        if a[i][j]>max_a:\n",
    "            max_a=a[i][j]\n",
    "        if a[i][j]<min_a:\n",
    "            min_a=a[i][j]\n",
    "print(\"max_a=\",max_a)\n",
    "print(\"min_a=\",min_a)"
   ]
  },
  {
   "cell_type": "markdown",
   "metadata": {},
   "source": [
    "## 8 create a random vector of size 30 and find the mean value"
   ]
  },
  {
   "cell_type": "code",
   "execution_count": 9,
   "metadata": {},
   "outputs": [
    {
     "name": "stdout",
     "output_type": "stream",
     "text": [
      "[15 24 18  2 13  7  8 13 13  1  4  8  2 30 16  2  5 14 18 23 22 14 27 16\n",
      "  3 17  9  7  6 28]\n",
      "12.833333333333334\n",
      "12.833333333333334\n"
     ]
    },
    {
     "name": "stderr",
     "output_type": "stream",
     "text": [
      "C:\\ProgramData\\Anaconda3\\lib\\site-packages\\ipykernel_launcher.py:1: DeprecationWarning: This function is deprecated. Please call randint(1, 30 + 1) instead\n",
      "  \"\"\"Entry point for launching an IPython kernel.\n"
     ]
    }
   ],
   "source": [
    "mean_vector=np.random.random_integers(1,30,30)\n",
    "print(mean_vector)\n",
    "#1-вариант\n",
    "mean1 = np.mean(mean_vector)\n",
    "print(mean1)\n",
    "#2-вариант\n",
    "summa_vector=0\n",
    "for i in range(len(mean_vector)):\n",
    "    summa_vector += mean_vector[i]\n",
    "print(summa_vector/len(mean_vector))"
   ]
  },
  {
   "cell_type": "markdown",
   "metadata": {},
   "source": [
    "## 9 How to add a border (filled with 0's) around an existing array?"
   ]
  },
  {
   "cell_type": "code",
   "execution_count": 10,
   "metadata": {},
   "outputs": [
    {
     "name": "stdout",
     "output_type": "stream",
     "text": [
      "[[5 7 9]\n",
      " [8 3 6]\n",
      " [2 4 8]]\n",
      "[[0 0 0 0 0]\n",
      " [0 5 7 9 0]\n",
      " [0 8 3 6 0]\n",
      " [0 2 4 8 0]\n",
      " [0 0 0 0 0]]\n"
     ]
    },
    {
     "name": "stderr",
     "output_type": "stream",
     "text": [
      "C:\\ProgramData\\Anaconda3\\lib\\site-packages\\ipykernel_launcher.py:1: DeprecationWarning: This function is deprecated. Please call randint(2, 10 + 1) instead\n",
      "  \"\"\"Entry point for launching an IPython kernel.\n"
     ]
    }
   ],
   "source": [
    "border_array = np.random.random_integers(2,10,(3,3))\n",
    "print(border_array)\n",
    "border_array = np.pad(border_array, pad_width=1, mode='constant', constant_values=0)\n",
    "print(border_array)"
   ]
  },
  {
   "cell_type": "markdown",
   "metadata": {},
   "source": [
    "## 10 Create a 8x8 matrix and fill it with a checkerboard pattern"
   ]
  },
  {
   "cell_type": "code",
   "execution_count": 11,
   "metadata": {},
   "outputs": [
    {
     "name": "stdout",
     "output_type": "stream",
     "text": [
      "[[ 75  88  22  82  46  69  16  92  96  56]\n",
      " [ 18  96  70  84  28  79  98  71  70   3]\n",
      " [ 68  50   2  69  13  69  85  35  59   5]\n",
      " [ 30  67  45  87  39 100  79  46  24  75]\n",
      " [ 35  25  25  56  42  18  59  26  61  33]\n",
      " [ 98  17  11  42   8  97  11   8  53  82]\n",
      " [ 98  46  91  41  98  81  53  84  80  20]\n",
      " [ 25  12  77  89  37  72  96  86  82  82]\n",
      " [ 51  41  19   3  17  92  65  62  83  49]\n",
      " [ 96  27 100  61  10  54   4  71  30  62]]\n"
     ]
    }
   ],
   "source": [
    "acheck = np.ones((3,3))\n",
    "acheck = np.zeros((8,8),dtype=int)\n",
    "acheck[1::2,::2] = 1\n",
    "acheck[::2,1::2] = 1\n",
    "print(a)"
   ]
  },
  {
   "cell_type": "markdown",
   "metadata": {},
   "source": [
    "## 11 Normalize a 5x5 random matrix"
   ]
  },
  {
   "cell_type": "code",
   "execution_count": 12,
   "metadata": {},
   "outputs": [
    {
     "name": "stderr",
     "output_type": "stream",
     "text": [
      "C:\\ProgramData\\Anaconda3\\lib\\site-packages\\ipykernel_launcher.py:1: DeprecationWarning: This function is deprecated. Please call randint(2, 20 + 1) instead\n",
      "  \"\"\"Entry point for launching an IPython kernel.\n"
     ]
    },
    {
     "name": "stdout",
     "output_type": "stream",
     "text": [
      "Original Array:\n",
      "[[11  4 12  3  2]\n",
      " [ 6  2 11 13 18]\n",
      " [14  7 12  4 12]\n",
      " [ 5  3 12 14  5]\n",
      " [ 5 14 20 20 18]]\n",
      "[[0.5        0.11111111 0.55555556 0.05555556 0.        ]\n",
      " [0.22222222 0.         0.5        0.61111111 0.88888889]\n",
      " [0.66666667 0.27777778 0.55555556 0.11111111 0.55555556]\n",
      " [0.16666667 0.05555556 0.55555556 0.66666667 0.16666667]\n",
      " [0.16666667 0.66666667 1.         1.         0.88888889]]\n"
     ]
    }
   ],
   "source": [
    "anorma = np.random.random_integers(2,20,(5,5))\n",
    "print(\"Original Array:\")\n",
    "print(anorma)\n",
    "maxa=np.amax(anorma)\n",
    "mina=np.amin(anorma)\n",
    "anorma = (anorma - mina)/(maxa - mina)\n",
    "print(anorma)"
   ]
  },
  {
   "cell_type": "markdown",
   "metadata": {},
   "source": [
    "## 12 Given a 10 array, negative all elements which are between 3and 8, in place"
   ]
  },
  {
   "cell_type": "code",
   "execution_count": 13,
   "metadata": {},
   "outputs": [
    {
     "name": "stdout",
     "output_type": "stream",
     "text": [
      "[0 1 2 3 4 5 6 7 8 9]\n",
      "[ 0  1  2  3 -4 -5 -6 -7  8  9]\n"
     ]
    }
   ],
   "source": [
    "negative = np.arange(10)\n",
    "print(negative)\n",
    "#m = (negative > 3) & (negative < 8)\n",
    "#negative[m] *= -1\n",
    "#print(negative)\n",
    "for i in range(len(negative)):\n",
    "    if (negative[i]>3 and negative[i] < 8):\n",
    "        negative[i] *= -1\n",
    "print(negative)"
   ]
  },
  {
   "cell_type": "markdown",
   "metadata": {},
   "source": [
    "## 13 How to find common values between two arrays?"
   ]
  },
  {
   "cell_type": "code",
   "execution_count": 14,
   "metadata": {},
   "outputs": [
    {
     "name": "stdout",
     "output_type": "stream",
     "text": [
      "[57 18 77 76 26 51 85 12 57 31]\n",
      "[78 17 80 50 60 46 59 81]\n",
      "[]\n"
     ]
    },
    {
     "name": "stderr",
     "output_type": "stream",
     "text": [
      "C:\\ProgramData\\Anaconda3\\lib\\site-packages\\ipykernel_launcher.py:1: DeprecationWarning: This function is deprecated. Please call randint(10, 100 + 1) instead\n",
      "  \"\"\"Entry point for launching an IPython kernel.\n",
      "C:\\ProgramData\\Anaconda3\\lib\\site-packages\\ipykernel_launcher.py:3: DeprecationWarning: This function is deprecated. Please call randint(10, 100 + 1) instead\n",
      "  This is separate from the ipykernel package so we can avoid doing imports until\n"
     ]
    }
   ],
   "source": [
    "a1 = np.random.random_integers(10,100,10)\n",
    "print(a1)\n",
    "a2 = np.random.random_integers(10,100,8)\n",
    "print(a2)\n",
    "print(np.intersect1d(a1, a2))"
   ]
  },
  {
   "cell_type": "markdown",
   "metadata": {},
   "source": [
    "## 14 Create a 5x5 matrix with row values ranging from 0 to 4"
   ]
  },
  {
   "cell_type": "code",
   "execution_count": 15,
   "metadata": {},
   "outputs": [
    {
     "name": "stdout",
     "output_type": "stream",
     "text": [
      "[[0. 1. 2. 3. 4.]\n",
      " [0. 1. 2. 3. 4.]\n",
      " [0. 1. 2. 3. 4.]\n",
      " [0. 1. 2. 3. 4.]\n",
      " [0. 1. 2. 3. 4.]]\n"
     ]
    }
   ],
   "source": [
    "row_array = np.zeros((5,5))\n",
    "#row_array += np.arange(5)\n",
    "\n",
    "for i in range(len(row_array)):\n",
    "    s=0\n",
    "    for j in range(len(row_array)):\n",
    "        row_array[i][j]=s\n",
    "        s=s+1\n",
    "print(row_array)"
   ]
  },
  {
   "cell_type": "markdown",
   "metadata": {},
   "source": [
    "## 15 Create a vector of size 10 with values ranging from 0 to 1, both excluded"
   ]
  },
  {
   "cell_type": "code",
   "execution_count": 16,
   "metadata": {},
   "outputs": [
    {
     "name": "stdout",
     "output_type": "stream",
     "text": [
      "[0.09090909 0.18181818 0.27272727 0.36363636 0.45454545 0.54545455\n",
      " 0.63636364 0.72727273 0.81818182 0.90909091]\n"
     ]
    }
   ],
   "source": [
    "ex = np.linspace(0,1,12,endpoint=True)[1:-1]\n",
    "print(ex)"
   ]
  },
  {
   "cell_type": "code",
   "execution_count": null,
   "metadata": {},
   "outputs": [],
   "source": []
  }
 ],
 "metadata": {
  "kernelspec": {
   "display_name": "Python 3",
   "language": "python",
   "name": "python3"
  },
  "language_info": {
   "codemirror_mode": {
    "name": "ipython",
    "version": 3
   },
   "file_extension": ".py",
   "mimetype": "text/x-python",
   "name": "python",
   "nbconvert_exporter": "python",
   "pygments_lexer": "ipython3",
   "version": "3.7.4"
  }
 },
 "nbformat": 4,
 "nbformat_minor": 2
}
