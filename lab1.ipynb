{
 "cells": [
  {
   "cell_type": "code",
   "execution_count": 3,
   "metadata": {},
   "outputs": [],
   "source": [
    "#Slyamkhan Kuanysh\n",
    "import numpy as np"
   ]
  },
  {
   "cell_type": "code",
   "execution_count": 24,
   "metadata": {},
   "outputs": [
    {
     "data": {
      "text/plain": [
       "array([0., 0., 0., 0., 0., 1., 0., 0., 0., 0.])"
      ]
     },
     "execution_count": 24,
     "metadata": {},
     "output_type": "execute_result"
    }
   ],
   "source": [
    "#1\n",
    "arr1=np.zeros([10])\n",
    "arr1[5]=1\n",
    "arr1"
   ]
  },
  {
   "cell_type": "code",
   "execution_count": 27,
   "metadata": {},
   "outputs": [
    {
     "data": {
      "text/plain": [
       "array([[10, 11, 12, 13, 14, 15, 16, 17, 18, 19, 20, 21, 22, 23, 24, 25,\n",
       "        26, 27, 28, 29, 30, 31, 32, 33, 34, 35, 36, 37, 38, 39, 40, 41,\n",
       "        42, 43, 44, 45, 46, 47, 48, 49]])"
      ]
     },
     "execution_count": 27,
     "metadata": {},
     "output_type": "execute_result"
    }
   ],
   "source": [
    "#2\n",
    "arr2=np.array([range(10,50)])\n",
    "arr2"
   ]
  },
  {
   "cell_type": "code",
   "execution_count": 32,
   "metadata": {},
   "outputs": [
    {
     "data": {
      "text/plain": [
       "array([[9, 8, 7, 6, 5, 4, 3, 2, 1]])"
      ]
     },
     "execution_count": 32,
     "metadata": {},
     "output_type": "execute_result"
    }
   ],
   "source": [
    "#3\n",
    "arr3=np.array([range(1,10)])\n",
    "np.flip(arr3)"
   ]
  },
  {
   "cell_type": "code",
   "execution_count": 35,
   "metadata": {},
   "outputs": [
    {
     "data": {
      "text/plain": [
       "array([[0, 1, 2],\n",
       "       [3, 4, 5],\n",
       "       [6, 7, 8]])"
      ]
     },
     "execution_count": 35,
     "metadata": {},
     "output_type": "execute_result"
    }
   ],
   "source": [
    "#4\n",
    "arr4=np.array([[0,1,2],[3,4,5],[6,7,8]])\n",
    "arr4"
   ]
  },
  {
   "cell_type": "code",
   "execution_count": 37,
   "metadata": {},
   "outputs": [
    {
     "name": "stdout",
     "output_type": "stream",
     "text": [
      "0\n",
      "1\n",
      "4\n"
     ]
    }
   ],
   "source": [
    "#5\n",
    "arr5=np.array([1,2,0,0,4,0])\n",
    "for i in range(len(arr5)):\n",
    "    if arr5[i]!=0:\n",
    "        print(i)"
   ]
  },
  {
   "cell_type": "code",
   "execution_count": 63,
   "metadata": {},
   "outputs": [
    {
     "data": {
      "text/plain": [
       "array([[[0.2309653 , 0.42821826, 0.55456835],\n",
       "        [0.98560927, 0.65589418, 0.4083683 ],\n",
       "        [0.75592021, 0.20230699, 0.78203985]],\n",
       "\n",
       "       [[0.48495699, 0.26648847, 0.86317869],\n",
       "        [0.91364697, 0.64040916, 0.18255714],\n",
       "        [0.63308214, 0.33389743, 0.95563386]],\n",
       "\n",
       "       [[0.08647561, 0.79223542, 0.92620542],\n",
       "        [0.63370106, 0.01134445, 0.32016984],\n",
       "        [0.59025668, 0.45391929, 0.65088648]]])"
      ]
     },
     "execution_count": 63,
     "metadata": {},
     "output_type": "execute_result"
    }
   ],
   "source": [
    "#6\n",
    "import random\n",
    "arr6=np.array([random.random() for r in range(0,27)]).reshape(3,3,3)\n",
    "arr6"
   ]
  },
  {
   "cell_type": "code",
   "execution_count": 63,
   "metadata": {},
   "outputs": [
    {
     "name": "stdout",
     "output_type": "stream",
     "text": [
      "1 98\n",
      "1 98\n"
     ]
    }
   ],
   "source": [
    "#7\n",
    "import random\n",
    "arr7=np.array([int(random.random()*100) for r in range(0,100)]).reshape(10,10)\n",
    "minimum=9999999\n",
    "maximum=0\n",
    "for j in arr7:\n",
    "    for i in j:\n",
    "        if i<=minimum:\n",
    "            minimum=i\n",
    "        if i>=maximum:\n",
    "            maximum=i\n",
    "print(minimum,maximum)\n",
    "print(arr7.min(), arr7.max())"
   ]
  },
  {
   "cell_type": "code",
   "execution_count": 34,
   "metadata": {},
   "outputs": [
    {
     "name": "stdout",
     "output_type": "stream",
     "text": [
      "[42 25 95 71 83 85 23 66 49 81 33 63 40 86 84 49 56 18 32 62 63 41 85 72\n",
      " 28 68 53 21 64 19]\n"
     ]
    },
    {
     "data": {
      "text/plain": [
       "55.233333333333334"
      ]
     },
     "execution_count": 34,
     "metadata": {},
     "output_type": "execute_result"
    }
   ],
   "source": [
    "#8\n",
    "arr8=np.array([int(random.random()*100) for r in range(0,30)])\n",
    "print(arr8)\n",
    "summ=0\n",
    "for i in arr8:\n",
    "    summ+=i\n",
    "mean=summ/len(arr8)\n",
    "mean"
   ]
  },
  {
   "cell_type": "code",
   "execution_count": 36,
   "metadata": {},
   "outputs": [
    {
     "name": "stdout",
     "output_type": "stream",
     "text": [
      "[[1. 1. 1.]\n",
      " [1. 1. 1.]\n",
      " [1. 1. 1.]]\n",
      "\n",
      "[[0. 0. 0. 0. 0.]\n",
      " [0. 1. 1. 1. 0.]\n",
      " [0. 1. 1. 1. 0.]\n",
      " [0. 1. 1. 1. 0.]\n",
      " [0. 0. 0. 0. 0.]]\n"
     ]
    }
   ],
   "source": [
    "#9\n",
    "arr9 = np.ones((3,3))\n",
    "print(arr9)\n",
    "print()\n",
    "arr9_1 = np.pad(arr9, pad_width=1, mode='constant', constant_values=0)\n",
    "print(arr9_1)"
   ]
  },
  {
   "cell_type": "code",
   "execution_count": 59,
   "metadata": {},
   "outputs": [
    {
     "data": {
      "text/plain": [
       "array([[1., 0., 1., 0., 1., 0., 1., 0.],\n",
       "       [0., 1., 0., 1., 0., 1., 0., 1.],\n",
       "       [1., 0., 1., 0., 1., 0., 1., 0.],\n",
       "       [0., 1., 0., 1., 0., 1., 0., 1.],\n",
       "       [1., 0., 1., 0., 1., 0., 1., 0.],\n",
       "       [0., 1., 0., 1., 0., 1., 0., 1.],\n",
       "       [1., 0., 1., 0., 1., 0., 1., 0.],\n",
       "       [0., 1., 0., 1., 0., 1., 0., 1.]])"
      ]
     },
     "execution_count": 59,
     "metadata": {},
     "output_type": "execute_result"
    }
   ],
   "source": [
    "#10\n",
    "arr10=np.ones([8,8])\n",
    "for i in range(len(arr10)):\n",
    "    #print(arr10[i])\n",
    "    for j in range(len(arr10[i])):\n",
    "        if j%2==0 and i%2==1:\n",
    "            arr10[i][j]=0\n",
    "        if j%2==1 and i%2==0:\n",
    "            arr10[i][j]=0\n",
    "\n",
    "arr10"
   ]
  },
  {
   "cell_type": "code",
   "execution_count": 72,
   "metadata": {},
   "outputs": [
    {
     "name": "stdout",
     "output_type": "stream",
     "text": [
      "[[0.99968554 0.30118814 0.40206466 1.         0.48091116]\n",
      " [0.91965602 0.9035679  0.32091063 0.24550299 0.42849338]\n",
      " [0.508591   0.43851425 0.49040631 0.55865469 0.43269284]\n",
      " [0.72679554 0.81938716 0.29621123 0.26024273 0.85202698]\n",
      " [0.         0.06125474 0.99339401 0.63177768 0.38599131]]\n"
     ]
    }
   ],
   "source": [
    "#11\n",
    "arr11=np.random.random([5,5])\n",
    "arrmax, arrmin = arr11.max(), arr11.min()\n",
    "arr11_1 = (arr11 - arrmin)/(arrmax - arrmin)\n",
    "print(arr11_1)"
   ]
  },
  {
   "cell_type": "code",
   "execution_count": 97,
   "metadata": {},
   "outputs": [
    {
     "data": {
      "text/plain": [
       "array([ 0,  1,  2, -3, -4, -5, -6, -7,  8,  9, 10])"
      ]
     },
     "execution_count": 97,
     "metadata": {},
     "output_type": "execute_result"
    }
   ],
   "source": [
    "#12\n",
    "arr12=np.arange(0,11)\n",
    "m = (arr12 > 2) & (arr12 < 8)\n",
    "arr12[m] *= -1\n",
    "arr12"
   ]
  },
  {
   "cell_type": "code",
   "execution_count": 82,
   "metadata": {},
   "outputs": [
    {
     "name": "stdout",
     "output_type": "stream",
     "text": [
      "[1 8 9 3 6]\n",
      "[1 6 1 3 0]\n",
      "[1 3 6]\n"
     ]
    }
   ],
   "source": [
    "#13\n",
    "arr13_1=np.array([int(random.random()*10) for r in range(0,5)])\n",
    "arr13_2=np.array([int(random.random()*10) for r in range(0,5)])\n",
    "print(arr13_1)\n",
    "print(arr13_2)\n",
    "print(np.intersect1d(arr13_1,arr13_2))"
   ]
  },
  {
   "cell_type": "code",
   "execution_count": 94,
   "metadata": {},
   "outputs": [
    {
     "data": {
      "text/plain": [
       "array([[0., 1., 2., 3., 4.],\n",
       "       [0., 1., 2., 3., 4.],\n",
       "       [0., 1., 2., 3., 4.],\n",
       "       [0., 1., 2., 3., 4.],\n",
       "       [0., 1., 2., 3., 4.]])"
      ]
     },
     "execution_count": 94,
     "metadata": {},
     "output_type": "execute_result"
    }
   ],
   "source": [
    "#14\n",
    "arr14=np.zeros([5,5])\n",
    "arr14 += np.arange(5)\n",
    "arr14"
   ]
  },
  {
   "cell_type": "code",
   "execution_count": 101,
   "metadata": {},
   "outputs": [
    {
     "data": {
      "text/plain": [
       "array([0.09090909, 0.18181818, 0.27272727, 0.36363636, 0.45454545,\n",
       "       0.54545455, 0.63636364, 0.72727273, 0.81818182, 0.90909091])"
      ]
     },
     "execution_count": 101,
     "metadata": {},
     "output_type": "execute_result"
    }
   ],
   "source": [
    "#15\n",
    "arr15=np.linspace(0,1,12,endpoint=True)[1:-1]\n",
    "arr15"
   ]
  }
 ],
 "metadata": {
  "kernelspec": {
   "display_name": "Python 3",
   "language": "python",
   "name": "python3"
  },
  "language_info": {
   "codemirror_mode": {
    "name": "ipython",
    "version": 3
   },
   "file_extension": ".py",
   "mimetype": "text/x-python",
   "name": "python",
   "nbconvert_exporter": "python",
   "pygments_lexer": "ipython3",
   "version": "3.6.10"
  }
 },
 "nbformat": 4,
 "nbformat_minor": 4
}
