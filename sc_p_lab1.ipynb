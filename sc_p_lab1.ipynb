{
 "cells": [
  {
   "cell_type": "code",
   "execution_count": 2,
   "metadata": {},
   "outputs": [],
   "source": [
    "from numpy import *\n"
   ]
  },
  {
   "cell_type": "code",
   "execution_count": 3,
   "metadata": {},
   "outputs": [
    {
     "data": {
      "text/plain": [
       "array([1, 2, 3, 4])"
      ]
     },
     "execution_count": 3,
     "metadata": {},
     "output_type": "execute_result"
    }
   ],
   "source": [
    "b = array([1, 2, 3, 4])\n",
    "b"
   ]
  },
  {
   "cell_type": "code",
   "execution_count": 4,
   "metadata": {},
   "outputs": [
    {
     "data": {
      "text/plain": [
       "array([0., 0., 0., 0., 0., 0., 0., 0., 0., 0.])"
      ]
     },
     "execution_count": 4,
     "metadata": {},
     "output_type": "execute_result"
    }
   ],
   "source": [
    "b = zeros(10)\n",
    "b"
   ]
  },
  {
   "cell_type": "code",
   "execution_count": 5,
   "metadata": {},
   "outputs": [
    {
     "data": {
      "text/plain": [
       "array([0., 0., 0., 0., 1., 0., 0., 0., 0., 0.])"
      ]
     },
     "execution_count": 5,
     "metadata": {},
     "output_type": "execute_result"
    }
   ],
   "source": [
    "b[4] = 1\n",
    "b"
   ]
  },
  {
   "cell_type": "code",
   "execution_count": 6,
   "metadata": {},
   "outputs": [
    {
     "data": {
      "text/plain": [
       "array([10, 11, 12, 13, 14, 15, 16, 17, 18, 19, 20, 21, 22, 23, 24, 25, 26,\n",
       "       27, 28, 29, 30, 31, 32, 33, 34, 35, 36, 37, 38, 39, 40, 41, 42, 43,\n",
       "       44, 45, 46, 47, 48, 49])"
      ]
     },
     "execution_count": 6,
     "metadata": {},
     "output_type": "execute_result"
    }
   ],
   "source": [
    "a = arange(10, 50)\n",
    "a"
   ]
  },
  {
   "cell_type": "code",
   "execution_count": 7,
   "metadata": {},
   "outputs": [
    {
     "data": {
      "text/plain": [
       "array([1, 2, 3, 4, 5, 6, 7, 8])"
      ]
     },
     "execution_count": 7,
     "metadata": {},
     "output_type": "execute_result"
    }
   ],
   "source": [
    "a = array([1, 2, 3, 4, 5, 6, 7, 8])\n",
    "a"
   ]
  },
  {
   "cell_type": "code",
   "execution_count": 8,
   "metadata": {},
   "outputs": [
    {
     "data": {
      "text/plain": [
       "array([8, 7, 6, 5, 4, 3, 2, 1])"
      ]
     },
     "execution_count": 8,
     "metadata": {},
     "output_type": "execute_result"
    }
   ],
   "source": [
    "b = a[::-1]\n",
    "b"
   ]
  },
  {
   "cell_type": "code",
   "execution_count": 9,
   "metadata": {},
   "outputs": [
    {
     "data": {
      "text/plain": [
       "array([0, 1, 2, 3, 4, 5, 6, 7, 8])"
      ]
     },
     "execution_count": 9,
     "metadata": {},
     "output_type": "execute_result"
    }
   ],
   "source": [
    "a = arange(9)\n",
    "a"
   ]
  },
  {
   "cell_type": "code",
   "execution_count": 10,
   "metadata": {},
   "outputs": [
    {
     "data": {
      "text/plain": [
       "array([[0, 1, 2],\n",
       "       [3, 4, 5],\n",
       "       [6, 7, 8]])"
      ]
     },
     "execution_count": 10,
     "metadata": {},
     "output_type": "execute_result"
    }
   ],
   "source": [
    "a = a.reshape(3, 3)\n",
    "a"
   ]
  },
  {
   "cell_type": "code",
   "execution_count": 11,
   "metadata": {},
   "outputs": [
    {
     "data": {
      "text/plain": [
       "[1, 2, 0, 0, 4, 0]"
      ]
     },
     "execution_count": 11,
     "metadata": {},
     "output_type": "execute_result"
    }
   ],
   "source": [
    "a = [1,2,0,0,4,0]\n",
    "a"
   ]
  },
  {
   "cell_type": "code",
   "execution_count": 12,
   "metadata": {},
   "outputs": [
    {
     "data": {
      "text/plain": [
       "(array([0, 1, 4], dtype=int64),)"
      ]
     },
     "execution_count": 12,
     "metadata": {},
     "output_type": "execute_result"
    }
   ],
   "source": [
    "b = nonzero(a)\n",
    "b"
   ]
  },
  {
   "cell_type": "code",
   "execution_count": 13,
   "metadata": {},
   "outputs": [
    {
     "data": {
      "text/plain": [
       "array([[[0.94606689, 0.33715187, 0.56028469],\n",
       "        [0.04971919, 0.69380262, 0.78245321],\n",
       "        [0.89071888, 0.37623643, 0.40888065]],\n",
       "\n",
       "       [[0.43827197, 0.12465779, 0.93293019],\n",
       "        [0.23524022, 0.75029148, 0.8127153 ],\n",
       "        [0.04978274, 0.08489464, 0.49667845]],\n",
       "\n",
       "       [[0.50993351, 0.96560275, 0.70491546],\n",
       "        [0.77926654, 0.74015707, 0.7058869 ],\n",
       "        [0.10126244, 0.34052613, 0.44537067]]])"
      ]
     },
     "execution_count": 13,
     "metadata": {},
     "output_type": "execute_result"
    }
   ],
   "source": [
    "a = random.rand(3, 3, 3)\n",
    "a"
   ]
  },
  {
   "cell_type": "code",
   "execution_count": 14,
   "metadata": {},
   "outputs": [
    {
     "data": {
      "text/plain": [
       "array([[0.78262921, 0.46238069, 0.36373332, 0.61644448, 0.06689384,\n",
       "        0.03953092, 0.43572995, 0.9832708 , 0.6295381 , 0.93726044],\n",
       "       [0.45699114, 0.05459231, 0.65740566, 0.25995498, 0.55850445,\n",
       "        0.30523695, 0.23333452, 0.76451259, 0.28117305, 0.4328837 ],\n",
       "       [0.09607202, 0.20585456, 0.76741251, 0.67354564, 0.00243463,\n",
       "        0.17263463, 0.67633166, 0.17513258, 0.52083874, 0.49743927],\n",
       "       [0.6578934 , 0.04456474, 0.73986814, 0.96227175, 0.41179062,\n",
       "        0.75588924, 0.08818662, 0.32590062, 0.57670401, 0.26976488],\n",
       "       [0.18068147, 0.85610317, 0.46242158, 0.96049   , 0.81045993,\n",
       "        0.1222062 , 0.535132  , 0.41268318, 0.42060875, 0.17576505],\n",
       "       [0.6447361 , 0.96402149, 0.39346908, 0.99806857, 0.20788737,\n",
       "        0.62074264, 0.43924534, 0.75548731, 0.60057846, 0.3003159 ],\n",
       "       [0.80956814, 0.85828923, 0.27652732, 0.97111084, 0.4721851 ,\n",
       "        0.60674111, 0.98883527, 0.5801899 , 0.26864292, 0.33656449],\n",
       "       [0.83330812, 0.42300306, 0.97127153, 0.34319499, 0.13193018,\n",
       "        0.48607363, 0.43357725, 0.40095853, 0.43392467, 0.53628373],\n",
       "       [0.48460569, 0.77927514, 0.3710562 , 0.88895529, 0.99763799,\n",
       "        0.28847016, 0.49383217, 0.21402671, 0.30608389, 0.47978226],\n",
       "       [0.23791161, 0.85988445, 0.01926403, 0.00325992, 0.19118296,\n",
       "        0.40375968, 0.29141346, 0.83630934, 0.9053895 , 0.74066449]])"
      ]
     },
     "execution_count": 14,
     "metadata": {},
     "output_type": "execute_result"
    }
   ],
   "source": [
    "a = random.rand(10, 10)\n",
    "a"
   ]
  },
  {
   "cell_type": "code",
   "execution_count": 15,
   "metadata": {},
   "outputs": [
    {
     "data": {
      "text/plain": [
       "0.9980685686412049"
      ]
     },
     "execution_count": 15,
     "metadata": {},
     "output_type": "execute_result"
    }
   ],
   "source": [
    "m = amax(a)\n",
    "m"
   ]
  },
  {
   "cell_type": "code",
   "execution_count": 16,
   "metadata": {},
   "outputs": [
    {
     "data": {
      "text/plain": [
       "0.002434632929560143"
      ]
     },
     "execution_count": 16,
     "metadata": {},
     "output_type": "execute_result"
    }
   ],
   "source": [
    "n = amin(a)\n",
    "n"
   ]
  },
  {
   "cell_type": "code",
   "execution_count": 17,
   "metadata": {},
   "outputs": [
    {
     "data": {
      "text/plain": [
       "array([0.18997519, 0.02270293, 0.98540466, 0.72674691, 0.46340432,\n",
       "       0.72755685, 0.2064241 , 0.76318287, 0.20527227, 0.78383385,\n",
       "       0.14899397, 0.99039774, 0.92552494, 0.99781652, 0.47466326,\n",
       "       0.17629764, 0.24251774, 0.12632205, 0.39984536, 0.89912908,\n",
       "       0.73825988, 0.23646253, 0.97034635, 0.31977693, 0.97880904,\n",
       "       0.9439758 , 0.93079839, 0.42375443, 0.34624058, 0.15363672])"
      ]
     },
     "execution_count": 17,
     "metadata": {},
     "output_type": "execute_result"
    }
   ],
   "source": [
    "a = random.rand(30)\n",
    "a"
   ]
  },
  {
   "cell_type": "code",
   "execution_count": 18,
   "metadata": {},
   "outputs": [
    {
     "data": {
      "text/plain": [
       "0.5499357634341172"
      ]
     },
     "execution_count": 18,
     "metadata": {},
     "output_type": "execute_result"
    }
   ],
   "source": [
    "mean = average(a)\n",
    "mean"
   ]
  },
  {
   "cell_type": "code",
   "execution_count": 20,
   "metadata": {},
   "outputs": [
    {
     "name": "stdout",
     "output_type": "stream",
     "text": [
      "Checkerboard pattern:\n",
      "0 1 0 1 0 1 0 1 \n",
      "1 0 1 0 1 0 1 0 \n",
      "0 1 0 1 0 1 0 1 \n",
      "1 0 1 0 1 0 1 0 \n",
      "0 1 0 1 0 1 0 1 \n",
      "1 0 1 0 1 0 1 0 \n",
      "0 1 0 1 0 1 0 1 \n",
      "1 0 1 0 1 0 1 0 \n"
     ]
    }
   ],
   "source": [
    "def printcheckboard(n): \n",
    "      \n",
    "    x = zeros((n, n), dtype = int) \n",
    "    x[1::2, ::2] = 1\n",
    "    x[::2, 1::2] = 1\n",
    "      \n",
    "    for i in range(n): \n",
    "        for j in range(n): \n",
    "            print(x[i][j], end =\" \")  \n",
    "        print()  \n",
    "n = 8\n",
    "printcheckboard(n)"
   ]
  },
  {
   "cell_type": "code",
   "execution_count": 21,
   "metadata": {},
   "outputs": [
    {
     "name": "stdout",
     "output_type": "stream",
     "text": [
      "[[0.29310159 0.85560355 0.16644668 0.53135935 0.55916132]\n",
      " [0.77034805 0.30452458 0.18809605 0.22844242 0.46430992]\n",
      " [0.5362264  0.0410358  0.07455997 0.33870275 0.26130707]\n",
      " [0.30795367 0.44651421 0.39114009 0.6755283  0.43839108]\n",
      " [0.61884251 0.         0.81878844 0.11236177 1.        ]]\n"
     ]
    }
   ],
   "source": [
    "x= random.random((5,5))\n",
    "xmax, xmin = x.max(), x.min()\n",
    "x = (x - xmin)/(xmax - xmin)\n",
    "print(x)"
   ]
  },
  {
   "cell_type": "code",
   "execution_count": 23,
   "metadata": {},
   "outputs": [
    {
     "name": "stdout",
     "output_type": "stream",
     "text": [
      "[10 40]\n"
     ]
    }
   ],
   "source": [
    "array1 = [0, 10, 20, 40, 60]\n",
    "\n",
    "array2 = [10, 30, 40]\n",
    "\n",
    "print(intersect1d(array1, array2))"
   ]
  },
  {
   "cell_type": "code",
   "execution_count": 30,
   "metadata": {},
   "outputs": [
    {
     "name": "stdout",
     "output_type": "stream",
     "text": [
      "[[0 1 2 3 4]\n",
      " [0 1 2 3 4]\n",
      " [0 1 2 3 4]\n",
      " [0 1 2 3 4]\n",
      " [0 1 2 3 4]]\n"
     ]
    }
   ],
   "source": [
    "a = array([arange(0,5,1), arange(0,5,1), arange(0,5,1), arange(0,5,1), arange(0,5,1)])\n",
    "print(a)"
   ]
  }
 ],
 "metadata": {
  "kernelspec": {
   "display_name": "Python 3",
   "language": "python",
   "name": "python3"
  },
  "language_info": {
   "codemirror_mode": {
    "name": "ipython",
    "version": 3
   },
   "file_extension": ".py",
   "mimetype": "text/x-python",
   "name": "python",
   "nbconvert_exporter": "python",
   "pygments_lexer": "ipython3",
   "version": "3.7.4"
  }
 },
 "nbformat": 4,
 "nbformat_minor": 2
}
